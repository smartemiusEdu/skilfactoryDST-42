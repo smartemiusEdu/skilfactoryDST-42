{
 "cells": [
  {
   "cell_type": "code",
   "execution_count": 5,
   "metadata": {},
   "outputs": [],
   "source": [
    "import numpy as np\n",
    "\n",
    "#Function makes suggestion in bigger direction.\n",
    "def suggest_bigger(high, low, current):\n",
    "    delta = (high - low)//2\n",
    "    if(delta > 0):\n",
    "        return current + delta\n",
    "    else:\n",
    "        return current + 1\n",
    "\n",
    "#Function makes suggestion in bigger direction.\n",
    "def suggest_smaller(high, low, current):\n",
    "    delta = (high - low)//2\n",
    "    if(delta > 0):\n",
    "        return current - delta\n",
    "    else:\n",
    "        return current - 1\n",
    "\n",
    "def game_optimized(number):\n",
    "    \n",
    "    low_limit = 1\n",
    "    high_limit = 100\n",
    "    \n",
    "    count = 1\n",
    "    predict = np.random.randint(low_limit,high_limit+1)\n",
    "    \n",
    "    #Squeezing the area of suggestion.\n",
    "    while number != predict:\n",
    "        count+=1\n",
    "        if number > predict: \n",
    "            low_limit = predict  #moving low_limit up\n",
    "            predict = suggest_bigger(high_limit,low_limit,predict)\n",
    "        elif number < predict: \n",
    "            high_limit = predict #moving high_limit down\n",
    "            predict = suggest_smaller(high_limit,low_limit,predict)\n",
    "    \n",
    "    return(count) # steps number return\n",
    "\n",
    "\n",
    "def score_game(game_optimized):\n",
    "    '''Запускаем игру 1000 раз, чтобы узнать, как быстро игра угадывает число'''\n",
    "    count_ls = []\n",
    "    np.random.seed(1)  # фиксируем RANDOM SEED, чтобы ваш эксперимент был воспроизводим!\n",
    "    random_array = np.random.randint(1,101, size=(1000))\n",
    "    for number in random_array:\n",
    "        count_ls.append(game_optimized(number))\n",
    "    score = int(np.mean(count_ls))\n",
    "    print(f\"Ваш алгоритм угадывает число в среднем за {score} попыток\")\n",
    "    return(score)\n"
   ]
  },
  {
   "cell_type": "code",
   "execution_count": 6,
   "metadata": {},
   "outputs": [
    {
     "name": "stdout",
     "output_type": "stream",
     "text": [
      "Ваш алгоритм угадывает число в среднем за 6 попыток\n"
     ]
    },
    {
     "data": {
      "text/plain": [
       "6"
      ]
     },
     "execution_count": 6,
     "metadata": {},
     "output_type": "execute_result"
    }
   ],
   "source": [
    "score_game(game_optimized)"
   ]
  },
  {
   "cell_type": "code",
   "execution_count": null,
   "metadata": {},
   "outputs": [],
   "source": []
  }
 ],
 "metadata": {
  "kernelspec": {
   "display_name": "Python 3",
   "language": "python",
   "name": "python3"
  },
  "language_info": {
   "codemirror_mode": {
    "name": "ipython",
    "version": 3
   },
   "file_extension": ".py",
   "mimetype": "text/x-python",
   "name": "python",
   "nbconvert_exporter": "python",
   "pygments_lexer": "ipython3",
   "version": "3.8.3"
  }
 },
 "nbformat": 4,
 "nbformat_minor": 4
}
